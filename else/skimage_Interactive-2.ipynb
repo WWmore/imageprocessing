{
 "cells": [
  {
   "cell_type": "markdown",
   "metadata": {},
   "source": [
    "Connected to imageprocessing (Python 3.11.4)"
   ]
  },
  {
   "cell_type": "code",
   "execution_count": 1,
   "metadata": {},
   "outputs": [
    {
     "name": "stderr",
     "output_type": "stream",
     "text": [
      "usage: ipykernel_launcher.py [-h] [--outdir OUTDIR] indir\n",
      "ipykernel_launcher.py: error: the following arguments are required: indir\n"
     ]
    },
    {
     "ename": "SystemExit",
     "evalue": "2",
     "output_type": "error",
     "traceback": [
      "An exception has occurred, use %tb to see the full traceback.\n",
      "\u001b[1;31mSystemExit\u001b[0m\u001b[1;31m:\u001b[0m 2\n"
     ]
    },
    {
     "name": "stderr",
     "output_type": "stream",
     "text": [
      "c:\\Users\\WANGH0M\\Anaconda3\\envs\\imageprocessing\\Lib\\site-packages\\IPython\\core\\interactiveshell.py:3516: UserWarning: To exit: use 'exit', 'quit', or Ctrl-D.\n",
      "  warn(\"To exit: use 'exit', 'quit', or Ctrl-D.\", stacklevel=1)\n"
     ]
    }
   ],
   "source": [
    "#python file_converter.py -h\n",
    "#python file_converter.py <path-to-input-dir> -o <path-to-output-dir>\n",
    "#!/usr/bin/env python\n",
    "import os\n",
    "import pyvista as pv\n",
    "import argparse\n",
    "from pyvista import examples\n",
    "\n",
    "def convertFiles(indir, outdir):\n",
    "    files = os.listdir(indir)\n",
    "    files = [ os.path.join(indir,f) for f in files if f.endswith('.vtk') ]\n",
    "    ret = 0\n",
    "    print(\"In:\", indir)\n",
    "    print(\"Out:\", outdir)\n",
    "    for f in files:\n",
    "        mesh = pv.read(f)\n",
    "        print(files)\n",
    "        basename = os.path.basename(f)\n",
    "        print(\"Copying file:\", basename)\n",
    "        basename = os.path.splitext(basename)[0]\n",
    "        print(\"Fle name:\", basename)\n",
    "        othermesh = examples.load_uniform()\n",
    "        legend_entries = []\n",
    "        legend_entries.append(['Liver converted', 'w'])\n",
    "        legend_entries.append(['External marker', 'k'])\n",
    "        plotter = pv.Plotter()\n",
    "        _ = plotter.add_mesh(mesh)\n",
    "        _ = plotter.add_mesh(othermesh, 'k')\n",
    "        _ = plotter.add_legend(legend_entries)\n",
    "        _ = plotter.export_obj(outdir+\"conv_\"+basename+\".obj\")\n",
    "        ret +=1\n",
    "        plotter.show()\n",
    "\n",
    "    print(\"Successfully converted %d out of %d files.\" % (ret, len(files)))\n",
    "\n",
    "def run(args):\n",
    "    convertFiles(args.indir, args.outdir)\n",
    "\n",
    "if __name__ == '__main__':\n",
    "    parser = argparse.ArgumentParser(description=\"VTK to OBJ converter\")\n",
    "    parser.add_argument('indir', help=\"Path to input directory.\")\n",
    "    parser.add_argument('--outdir', '-o', default='output', help=\"Path to output directory.\")\n",
    "    parser.set_defaults(func=run)\n",
    "    args = parser.parse_args()\n",
    "    ret = args.func(args)"
   ]
  }
 ],
 "metadata": {
  "kernelspec": {
   "display_name": "imageprocessing",
   "language": "python",
   "name": "python3"
  },
  "language_info": {
   "name": "python",
   "version": "3.11.4"
  }
 },
 "nbformat": 4,
 "nbformat_minor": 2
}
