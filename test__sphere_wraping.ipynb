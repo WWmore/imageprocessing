{
 "cells": [
  {
   "cell_type": "markdown",
   "id": "c6fd81a2",
   "metadata": {},
   "source": [
    "# Ball-sphere image processing\n",
    "Given photos of the ball, extract spherical pathes on the same position of the photo, then stitch into 1 image"
   ]
  },
  {
   "cell_type": "code",
   "execution_count": 4,
   "id": "3ece822b",
   "metadata": {},
   "outputs": [],
   "source": [
    "import numpy as np\n",
    "import matplotlib.pyplot as plt\n",
    "# from matplotlib import rcParams\n",
    "import cv2"
   ]
  },
  {
   "cell_type": "code",
   "execution_count": 5,
   "id": "f26b56ec",
   "metadata": {},
   "outputs": [
    {
     "name": "stdout",
     "output_type": "stream",
     "text": [
      "(5464, 8192, 3) 134283264\n"
     ]
    }
   ],
   "source": [
    "## read photo\n",
    "path = r'C:\\\\Users\\\\WANGH0M\\\\Desktop\\\\opencv\\\\halliberton\\\\0'\n",
    "name = '\\\\5.jpg' ###762, 780, 793, 731, 748\n",
    "img = cv2.imread(path+name,1)\n",
    "print(img.shape, img.size)\n",
    "\n",
    "## change jpg to png\n",
    "cv2.imwrite(path + \"\\\\png.png\", img)\n",
    "img = cv2.imread(path+'\\\\png.png',1)\n",
    "\n",
    "## rescale the photo\n",
    "img = cv2.resize(img, (0,0), fx=0.1, fy=0.1)\n",
    "\n",
    "## crop the photo\n",
    "num_row, num_col = img.shape[0], img.shape[1]\n",
    "subimg = img[:, int(num_col*0.15):int(num_col*0.85), :]\n",
    "\n",
    "cv2.imshow(\"Sub-image\", subimg)\n",
    "cv2.waitKey()\n",
    "cv2.destroyAllWindows()\n",
    "\n",
    "\"use above function to get a constant circle of the first photo\"\n",
    "center, radius = np.array([subimg.shape[0]//2+30, subimg.shape[1]//2-50]), 300\n",
    "\n",
    "# draw the outer circle\n",
    "cv2.circle(subimg,center,radius,(0,0,255),2)\n",
    "# draw the center of the circle\n",
    "cv2.circle(subimg,center,2,(0,0,255),10)\n",
    "# print(circle[0],circle[1])\n",
    "\n",
    "cv2.imshow(name,subimg)\n",
    "cv2.waitKey(0)\n",
    "cv2.destroyAllWindows()"
   ]
  }
 ],
 "metadata": {
  "kernelspec": {
   "display_name": "Python 3 (ipykernel)",
   "language": "python",
   "name": "python3"
  },
  "language_info": {
   "codemirror_mode": {
    "name": "ipython",
    "version": 3
   },
   "file_extension": ".py",
   "mimetype": "text/x-python",
   "name": "python",
   "nbconvert_exporter": "python",
   "pygments_lexer": "ipython3",
   "version": "3.10.9"
  }
 },
 "nbformat": 4,
 "nbformat_minor": 5
}
